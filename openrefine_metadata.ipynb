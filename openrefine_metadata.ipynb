{
  "nbformat": 4,
  "nbformat_minor": 0,
  "metadata": {
    "colab": {
      "name": "openrefine_metadata.ipynb",
      "provenance": [],
      "include_colab_link": true
    },
    "kernelspec": {
      "name": "python3",
      "display_name": "Python 3"
    }
  },
  "cells": [
    {
      "cell_type": "markdown",
      "metadata": {
        "id": "view-in-github",
        "colab_type": "text"
      },
      "source": [
        "<a href=\"https://colab.research.google.com/github/Artdive-swu/Music/blob/main/openrefine_metadata.ipynb\" target=\"_parent\"><img src=\"https://colab.research.google.com/assets/colab-badge.svg\" alt=\"Open In Colab\"/></a>"
      ]
    },
    {
      "cell_type": "code",
      "metadata": {
        "colab": {
          "base_uri": "https://localhost:8080/"
        },
        "id": "lL2LfLhqBZRw",
        "outputId": "ce3e9498-0ff2-4a91-c921-886bedf70b0c"
      },
      "source": [
        "from google.colab import drive\n",
        "drive.mount('/content/drive')"
      ],
      "execution_count": null,
      "outputs": [
        {
          "output_type": "stream",
          "text": [
            "Mounted at /content/drive\n"
          ],
          "name": "stdout"
        }
      ]
    },
    {
      "cell_type": "code",
      "metadata": {
        "id": "gKQ8WHWvH4-1"
      },
      "source": [
        "import pandas as pd\n",
        "\n",
        "df = pd.read_csv('/content/drive/MyDrive/해민/MusicSuperset_No_Cleaning.csv', index_col=[0])"
      ],
      "execution_count": null,
      "outputs": []
    },
    {
      "cell_type": "code",
      "metadata": {
        "colab": {
          "base_uri": "https://localhost:8080/"
        },
        "id": "wi1KdDM1YTrG",
        "outputId": "c596c25b-f5dd-4094-fed9-10e7dc6ecf7c"
      },
      "source": [
        "df['Composer'].isnull().sum()"
      ],
      "execution_count": null,
      "outputs": [
        {
          "output_type": "execute_result",
          "data": {
            "text/plain": [
              "1584"
            ]
          },
          "metadata": {
            "tags": []
          },
          "execution_count": 7
        }
      ]
    },
    {
      "cell_type": "code",
      "metadata": {
        "colab": {
          "base_uri": "https://localhost:8080/",
          "height": 272
        },
        "id": "Y9IK-tlNIffw",
        "outputId": "d687704b-49e6-49eb-b94b-e75099029826"
      },
      "source": [
        "df[['Music_ID','Title', 'Composer', 'Performer', 'Form', 'No', 'Key',\n",
        "       'CatalogNumber', 'Movement']].take([6803,10443,10444,10445])"
      ],
      "execution_count": null,
      "outputs": [
        {
          "output_type": "execute_result",
          "data": {
            "text/html": [
              "<div>\n",
              "<style scoped>\n",
              "    .dataframe tbody tr th:only-of-type {\n",
              "        vertical-align: middle;\n",
              "    }\n",
              "\n",
              "    .dataframe tbody tr th {\n",
              "        vertical-align: top;\n",
              "    }\n",
              "\n",
              "    .dataframe thead th {\n",
              "        text-align: right;\n",
              "    }\n",
              "</style>\n",
              "<table border=\"1\" class=\"dataframe\">\n",
              "  <thead>\n",
              "    <tr style=\"text-align: right;\">\n",
              "      <th></th>\n",
              "      <th>Music_ID</th>\n",
              "      <th>Title</th>\n",
              "      <th>Composer</th>\n",
              "      <th>Performer</th>\n",
              "      <th>Form</th>\n",
              "      <th>No</th>\n",
              "      <th>Key</th>\n",
              "      <th>CatalogNumber</th>\n",
              "      <th>Movement</th>\n",
              "    </tr>\n",
              "    <tr>\n",
              "      <th>Column</th>\n",
              "      <th></th>\n",
              "      <th></th>\n",
              "      <th></th>\n",
              "      <th></th>\n",
              "      <th></th>\n",
              "      <th></th>\n",
              "      <th></th>\n",
              "      <th></th>\n",
              "      <th></th>\n",
              "    </tr>\n",
              "  </thead>\n",
              "  <tbody>\n",
              "    <tr>\n",
              "      <th>6803</th>\n",
              "      <td>T_5199</td>\n",
              "      <td>16 Waltzes op. 39: No. 9 - No. 16</td>\n",
              "      <td>Johannes Brahms</td>\n",
              "      <td>Julius Katchen</td>\n",
              "      <td>NaN</td>\n",
              "      <td>?</td>\n",
              "      <td>NaN</td>\n",
              "      <td>NaN</td>\n",
              "      <td>NaN</td>\n",
              "    </tr>\n",
              "    <tr>\n",
              "      <th>10443</th>\n",
              "      <td>musopen_1800</td>\n",
              "      <td>Sonata No. 16 in G Major, Op. 31 No. 1 - II. Adagio grazioso</td>\n",
              "      <td>Ludwig van Beethoven</td>\n",
              "      <td>Paul Pitman</td>\n",
              "      <td>Sonata</td>\n",
              "      <td>?</td>\n",
              "      <td>G Major</td>\n",
              "      <td>NaN</td>\n",
              "      <td>NaN</td>\n",
              "    </tr>\n",
              "    <tr>\n",
              "      <th>10444</th>\n",
              "      <td>musopen_1801</td>\n",
              "      <td>Sonata No. 16 in G Major, Op. 31 No. 1 - III. Rondo (Allegretto)</td>\n",
              "      <td>Ludwig van Beethoven</td>\n",
              "      <td>Paul Pitman</td>\n",
              "      <td>Sonata</td>\n",
              "      <td>?</td>\n",
              "      <td>G Major</td>\n",
              "      <td>NaN</td>\n",
              "      <td>NaN</td>\n",
              "    </tr>\n",
              "    <tr>\n",
              "      <th>10445</th>\n",
              "      <td>musopen_1802</td>\n",
              "      <td>Sonata No. 16 in G Major, Op. 31 No. 1 - I. Allegro vivace</td>\n",
              "      <td>Ludwig van Beethoven</td>\n",
              "      <td>Paul Pitman</td>\n",
              "      <td>Sonata</td>\n",
              "      <td>?</td>\n",
              "      <td>G Major</td>\n",
              "      <td>NaN</td>\n",
              "      <td>NaN</td>\n",
              "    </tr>\n",
              "  </tbody>\n",
              "</table>\n",
              "</div>"
            ],
            "text/plain": [
              "            Music_ID  \\\n",
              "Column                 \n",
              "6803    T_5199         \n",
              "10443   musopen_1800   \n",
              "10444   musopen_1801   \n",
              "10445   musopen_1802   \n",
              "\n",
              "                                                                   Title  \\\n",
              "Column                                                                     \n",
              "6803    16 Waltzes op. 39: No. 9 - No. 16                                  \n",
              "10443   Sonata No. 16 in G Major, Op. 31 No. 1 - II. Adagio grazioso       \n",
              "10444   Sonata No. 16 in G Major, Op. 31 No. 1 - III. Rondo (Allegretto)   \n",
              "10445   Sonata No. 16 in G Major, Op. 31 No. 1 - I. Allegro vivace         \n",
              "\n",
              "                    Composer       Performer    Form No      Key  \\\n",
              "Column                                                             \n",
              "6803    Johannes Brahms       Julius Katchen  NaN     ?  NaN       \n",
              "10443   Ludwig van Beethoven  Paul Pitman     Sonata  ?  G Major   \n",
              "10444   Ludwig van Beethoven  Paul Pitman     Sonata  ?  G Major   \n",
              "10445   Ludwig van Beethoven  Paul Pitman     Sonata  ?  G Major   \n",
              "\n",
              "       CatalogNumber Movement  \n",
              "Column                         \n",
              "6803    NaN           NaN      \n",
              "10443   NaN           NaN      \n",
              "10444   NaN           NaN      \n",
              "10445   NaN           NaN      "
            ]
          },
          "metadata": {
            "tags": []
          },
          "execution_count": 10
        }
      ]
    },
    {
      "cell_type": "code",
      "metadata": {
        "colab": {
          "base_uri": "https://localhost:8080/"
        },
        "id": "K96wPr_-JQM_",
        "outputId": "12c8174f-94d2-472f-9c1e-190f99ddbe01"
      },
      "source": [
        "pd.set_option('display.max_rows', None)\n",
        "pd.set_option('display.max_columns', None)\n",
        "pd.set_option('display.width', None)\n",
        "pd.set_option('display.max_colwidth', -1)"
      ],
      "execution_count": null,
      "outputs": [
        {
          "output_type": "stream",
          "text": [
            "/usr/local/lib/python3.6/dist-packages/ipykernel_launcher.py:4: FutureWarning: Passing a negative integer is deprecated in version 1.0 and will not be supported in future version. Instead, use None to not limit the column width.\n",
            "  after removing the cwd from sys.path.\n"
          ],
          "name": "stderr"
        }
      ]
    },
    {
      "cell_type": "code",
      "metadata": {
        "colab": {
          "base_uri": "https://localhost:8080/"
        },
        "id": "9w8-AVYWI8V1",
        "outputId": "f1158cb0-20c7-4ac5-8af4-b1886cfd8471"
      },
      "source": [
        "df.columns"
      ],
      "execution_count": null,
      "outputs": [
        {
          "output_type": "execute_result",
          "data": {
            "text/plain": [
              "Index(['Music_ID', 'Title', 'Composer', 'Performer', 'Form', 'No', 'Key',\n",
              "       'CatalogNumber', 'Movement', 'Length', 'Instruments', 'Period',\n",
              "       'License', 'Filename', 'Gdrive_ID'],\n",
              "      dtype='object')"
            ]
          },
          "metadata": {
            "tags": []
          },
          "execution_count": 4
        }
      ]
    },
    {
      "cell_type": "code",
      "metadata": {
        "colab": {
          "base_uri": "https://localhost:8080/"
        },
        "id": "QAxm9cwIXKBD",
        "outputId": "5a6076ff-9ef8-46b0-a382-f343e9ca6d8b"
      },
      "source": [
        "import re\n",
        "\n",
        "# 곡번호 뽑는 코드\n",
        "def find_number(title):\n",
        "  it = re.compile('No\\. ?[0-9]*', re.IGNORECASE).findall(str(title))\n",
        "  if not it:\n",
        "    return pd.np.nan\n",
        "  else:\n",
        "    return it\n",
        "\n",
        "df['No'] = df['Title'].apply(find_number)"
      ],
      "execution_count": null,
      "outputs": [
        {
          "output_type": "stream",
          "text": [
            "/usr/local/lib/python3.6/dist-packages/ipykernel_launcher.py:7: FutureWarning: The pandas.np module is deprecated and will be removed from pandas in a future version. Import numpy directly instead\n",
            "  import sys\n"
          ],
          "name": "stderr"
        }
      ]
    },
    {
      "cell_type": "code",
      "metadata": {
        "id": "Z4Y1vMhwb0G0"
      },
      "source": [
        "def find_key(row):\n",
        "  it = re.compile('in [A-Z] Major').findall(row['Title'])\n",
        "  if pd.notnull(row['Key']):\n",
        "    if not it:\n",
        "      return pd.np.nan\n",
        "    else:\n",
        "      return it\n",
        "  else:\n",
        "    continue\n"
      ],
      "execution_count": null,
      "outputs": []
    },
    {
      "cell_type": "code",
      "metadata": {
        "colab": {
          "base_uri": "https://localhost:8080/"
        },
        "id": "cxLXRYhmg6_r",
        "outputId": "2d597e0c-50f4-4551-da75-7efe21f2ee3d"
      },
      "source": [
        "it = re.compile('\\w? \\w*? Major|\\w? \\w*? Minor', re.IGNORECASE).findall('Sonata No. 1 in F flat Minor, Op. 2 No. 1 - II. Adagio')\n",
        "for i in it:\n",
        "  print(i)"
      ],
      "execution_count": null,
      "outputs": [
        {
          "output_type": "stream",
          "text": [
            "F flat Minor\n"
          ],
          "name": "stdout"
        }
      ]
    },
    {
      "cell_type": "code",
      "metadata": {
        "colab": {
          "base_uri": "https://localhost:8080/",
          "height": 612
        },
        "id": "EUawSW2DZ0Dx",
        "outputId": "c4407c6c-db96-4c74-a770-c194c8e71742"
      },
      "source": [
        "df[df['No'].isnull() == False].head()"
      ],
      "execution_count": null,
      "outputs": [
        {
          "output_type": "execute_result",
          "data": {
            "text/html": [
              "<div>\n",
              "<style scoped>\n",
              "    .dataframe tbody tr th:only-of-type {\n",
              "        vertical-align: middle;\n",
              "    }\n",
              "\n",
              "    .dataframe tbody tr th {\n",
              "        vertical-align: top;\n",
              "    }\n",
              "\n",
              "    .dataframe thead th {\n",
              "        text-align: right;\n",
              "    }\n",
              "</style>\n",
              "<table border=\"1\" class=\"dataframe\">\n",
              "  <thead>\n",
              "    <tr style=\"text-align: right;\">\n",
              "      <th></th>\n",
              "      <th>Music_ID</th>\n",
              "      <th>Title</th>\n",
              "      <th>Composer</th>\n",
              "      <th>Performer</th>\n",
              "      <th>Form</th>\n",
              "      <th>No</th>\n",
              "      <th>Key</th>\n",
              "      <th>CatalogNumber</th>\n",
              "      <th>Movement</th>\n",
              "      <th>Length</th>\n",
              "      <th>Instruments</th>\n",
              "      <th>Period</th>\n",
              "      <th>License</th>\n",
              "      <th>Filename</th>\n",
              "      <th>Gdrive_ID</th>\n",
              "    </tr>\n",
              "    <tr>\n",
              "      <th>Column</th>\n",
              "      <th></th>\n",
              "      <th></th>\n",
              "      <th></th>\n",
              "      <th></th>\n",
              "      <th></th>\n",
              "      <th></th>\n",
              "      <th></th>\n",
              "      <th></th>\n",
              "      <th></th>\n",
              "      <th></th>\n",
              "      <th></th>\n",
              "      <th></th>\n",
              "      <th></th>\n",
              "      <th></th>\n",
              "      <th></th>\n",
              "    </tr>\n",
              "  </thead>\n",
              "  <tbody>\n",
              "    <tr>\n",
              "      <th>2</th>\n",
              "      <td>fma_tracks_10026</td>\n",
              "      <td>Sonata No. 1 in F Minor, Op. 2 No. 1 - I. Allegro</td>\n",
              "      <td>Ludwig van Beethoven</td>\n",
              "      <td>Daniel Veesey</td>\n",
              "      <td>NaN</td>\n",
              "      <td>[No. 1, No. 1]</td>\n",
              "      <td>NaN</td>\n",
              "      <td>NaN</td>\n",
              "      <td>NaN</td>\n",
              "      <td>322</td>\n",
              "      <td>NaN</td>\n",
              "      <td>NaN</td>\n",
              "      <td>6</td>\n",
              "      <td>NaN</td>\n",
              "      <td>NaN</td>\n",
              "    </tr>\n",
              "    <tr>\n",
              "      <th>3</th>\n",
              "      <td>fma_tracks_10027</td>\n",
              "      <td>Sonata No. 1 in F Minor, Op. 2 No. 1 - II. Adagio</td>\n",
              "      <td>Ludwig van Beethoven</td>\n",
              "      <td>Daniel Veesey</td>\n",
              "      <td>NaN</td>\n",
              "      <td>[No. 1, No. 1]</td>\n",
              "      <td>NaN</td>\n",
              "      <td>NaN</td>\n",
              "      <td>NaN</td>\n",
              "      <td>340</td>\n",
              "      <td>NaN</td>\n",
              "      <td>NaN</td>\n",
              "      <td>6</td>\n",
              "      <td>NaN</td>\n",
              "      <td>NaN</td>\n",
              "    </tr>\n",
              "    <tr>\n",
              "      <th>4</th>\n",
              "      <td>fma_tracks_10028</td>\n",
              "      <td>Sonata No. 1 in F Minor, Op. 2 No. 1 - III. Menuetto Allegretto</td>\n",
              "      <td>Ludwig van Beethoven</td>\n",
              "      <td>Daniel Veesey</td>\n",
              "      <td>NaN</td>\n",
              "      <td>[No. 1, No. 1]</td>\n",
              "      <td>NaN</td>\n",
              "      <td>NaN</td>\n",
              "      <td>NaN</td>\n",
              "      <td>181</td>\n",
              "      <td>NaN</td>\n",
              "      <td>NaN</td>\n",
              "      <td>6</td>\n",
              "      <td>NaN</td>\n",
              "      <td>NaN</td>\n",
              "    </tr>\n",
              "    <tr>\n",
              "      <th>5</th>\n",
              "      <td>fma_tracks_10029</td>\n",
              "      <td>Sonata No. 1 in F Minor, Op. 2 No. 1 - IV. Prestissimo</td>\n",
              "      <td>Ludwig van Beethoven</td>\n",
              "      <td>Daniel Veesey</td>\n",
              "      <td>NaN</td>\n",
              "      <td>[No. 1, No. 1]</td>\n",
              "      <td>NaN</td>\n",
              "      <td>NaN</td>\n",
              "      <td>NaN</td>\n",
              "      <td>446</td>\n",
              "      <td>NaN</td>\n",
              "      <td>NaN</td>\n",
              "      <td>6</td>\n",
              "      <td>NaN</td>\n",
              "      <td>NaN</td>\n",
              "    </tr>\n",
              "    <tr>\n",
              "      <th>6</th>\n",
              "      <td>fma_tracks_10030</td>\n",
              "      <td>Sonata No. 32 in C Minor, Op. 111 - I. Maestoso - Allegro con brio ed appassionato</td>\n",
              "      <td>NaN</td>\n",
              "      <td>Daniel Veesey</td>\n",
              "      <td>NaN</td>\n",
              "      <td>[No. 32]</td>\n",
              "      <td>NaN</td>\n",
              "      <td>NaN</td>\n",
              "      <td>NaN</td>\n",
              "      <td>553</td>\n",
              "      <td>NaN</td>\n",
              "      <td>NaN</td>\n",
              "      <td>6</td>\n",
              "      <td>NaN</td>\n",
              "      <td>NaN</td>\n",
              "    </tr>\n",
              "  </tbody>\n",
              "</table>\n",
              "</div>"
            ],
            "text/plain": [
              "                Music_ID  \\\n",
              "Column                     \n",
              "2       fma_tracks_10026   \n",
              "3       fma_tracks_10027   \n",
              "4       fma_tracks_10028   \n",
              "5       fma_tracks_10029   \n",
              "6       fma_tracks_10030   \n",
              "\n",
              "                                                                                     Title  \\\n",
              "Column                                                                                       \n",
              "2       Sonata No. 1 in F Minor, Op. 2 No. 1 - I. Allegro                                    \n",
              "3       Sonata No. 1 in F Minor, Op. 2 No. 1 - II. Adagio                                    \n",
              "4       Sonata No. 1 in F Minor, Op. 2 No. 1 - III. Menuetto Allegretto                      \n",
              "5       Sonata No. 1 in F Minor, Op. 2 No. 1 - IV. Prestissimo                               \n",
              "6       Sonata No. 32 in C Minor, Op. 111 - I. Maestoso - Allegro con brio ed appassionato   \n",
              "\n",
              "                    Composer      Performer Form              No  Key  \\\n",
              "Column                                                                  \n",
              "2       Ludwig van Beethoven  Daniel Veesey  NaN  [No. 1, No. 1]  NaN   \n",
              "3       Ludwig van Beethoven  Daniel Veesey  NaN  [No. 1, No. 1]  NaN   \n",
              "4       Ludwig van Beethoven  Daniel Veesey  NaN  [No. 1, No. 1]  NaN   \n",
              "5       Ludwig van Beethoven  Daniel Veesey  NaN  [No. 1, No. 1]  NaN   \n",
              "6       NaN                   Daniel Veesey  NaN  [No. 32]        NaN   \n",
              "\n",
              "       CatalogNumber Movement Length Instruments Period License Filename  \\\n",
              "Column                                                                     \n",
              "2       NaN           NaN      322    NaN         NaN    6       NaN       \n",
              "3       NaN           NaN      340    NaN         NaN    6       NaN       \n",
              "4       NaN           NaN      181    NaN         NaN    6       NaN       \n",
              "5       NaN           NaN      446    NaN         NaN    6       NaN       \n",
              "6       NaN           NaN      553    NaN         NaN    6       NaN       \n",
              "\n",
              "       Gdrive_ID  \n",
              "Column            \n",
              "2       NaN       \n",
              "3       NaN       \n",
              "4       NaN       \n",
              "5       NaN       \n",
              "6       NaN       "
            ]
          },
          "metadata": {
            "tags": []
          },
          "execution_count": 17
        }
      ]
    },
    {
      "cell_type": "code",
      "metadata": {
        "colab": {
          "base_uri": "https://localhost:8080/",
          "height": 35
        },
        "id": "DNxLS9RVeHL6",
        "outputId": "6eead7a2-4023-4fa6-ffb7-eae231c3ffeb"
      },
      "source": [
        "import re\n",
        "\n",
        "df['Title'][2]\n",
        "\n",
        "#matchObj = re.search('match', \"'matchObj' is a good name, but 'm' is convenient.\")"
      ],
      "execution_count": null,
      "outputs": [
        {
          "output_type": "execute_result",
          "data": {
            "application/vnd.google.colaboratory.intrinsic+json": {
              "type": "string"
            },
            "text/plain": [
              "'Sonata No. 1 in F Minor, Op. 2 No. 1 - I. Allegro'"
            ]
          },
          "metadata": {
            "tags": []
          },
          "execution_count": 4
        }
      ]
    },
    {
      "cell_type": "code",
      "metadata": {
        "colab": {
          "base_uri": "https://localhost:8080/"
        },
        "id": "SsL9trNrSeW1",
        "outputId": "12749935-19e1-4258-b09b-ac1e486f8843"
      },
      "source": [
        "#@title 곡번호 뽑는 코드\n",
        "import re\n",
        "it = re.compile('No. ?[0-9]*', re.IGNORECASE).findall('Sonata no.1 No. 167 in G Major, Op. 31 No. 1 - I. Allegro vivace')\n",
        "for i in it:\n",
        "  print(i)"
      ],
      "execution_count": null,
      "outputs": [
        {
          "output_type": "stream",
          "text": [
            "no.1\n",
            "No. 167\n",
            "No. 1\n"
          ],
          "name": "stdout"
        }
      ]
    },
    {
      "cell_type": "code",
      "metadata": {
        "colab": {
          "base_uri": "https://localhost:8080/"
        },
        "id": "X5V-lfN6v-T2",
        "outputId": "1502d877-b4d2-4590-a332-98d7803748d4"
      },
      "source": [
        "# key 뽑는 코드\n",
        "it = re.compile('in [A-Z] Major').findall('Sonata No.167 in G Major, Op. 31 No. 1 - I. Allegro vivace')\n",
        "for i in it:\n",
        "  print(i)"
      ],
      "execution_count": null,
      "outputs": [
        {
          "output_type": "stream",
          "text": [
            "in G Major\n"
          ],
          "name": "stdout"
        }
      ]
    },
    {
      "cell_type": "code",
      "metadata": {
        "colab": {
          "base_uri": "https://localhost:8080/",
          "height": 595
        },
        "id": "4Xj79eKSX6UR",
        "outputId": "0e2770f7-f5d0-44d6-a22f-bd4d0e753e4a"
      },
      "source": [
        "df[df['Key'].isnull() == False].head()"
      ],
      "execution_count": null,
      "outputs": [
        {
          "output_type": "execute_result",
          "data": {
            "text/html": [
              "<div>\n",
              "<style scoped>\n",
              "    .dataframe tbody tr th:only-of-type {\n",
              "        vertical-align: middle;\n",
              "    }\n",
              "\n",
              "    .dataframe tbody tr th {\n",
              "        vertical-align: top;\n",
              "    }\n",
              "\n",
              "    .dataframe thead th {\n",
              "        text-align: right;\n",
              "    }\n",
              "</style>\n",
              "<table border=\"1\" class=\"dataframe\">\n",
              "  <thead>\n",
              "    <tr style=\"text-align: right;\">\n",
              "      <th></th>\n",
              "      <th>Music_ID</th>\n",
              "      <th>Title</th>\n",
              "      <th>Composer</th>\n",
              "      <th>Performer</th>\n",
              "      <th>Form</th>\n",
              "      <th>No</th>\n",
              "      <th>Key</th>\n",
              "      <th>CatalogNumber</th>\n",
              "      <th>Movement</th>\n",
              "      <th>Length</th>\n",
              "      <th>Instruments</th>\n",
              "      <th>Period</th>\n",
              "      <th>License</th>\n",
              "      <th>Filename</th>\n",
              "      <th>Gdrive_ID</th>\n",
              "    </tr>\n",
              "    <tr>\n",
              "      <th>Column</th>\n",
              "      <th></th>\n",
              "      <th></th>\n",
              "      <th></th>\n",
              "      <th></th>\n",
              "      <th></th>\n",
              "      <th></th>\n",
              "      <th></th>\n",
              "      <th></th>\n",
              "      <th></th>\n",
              "      <th></th>\n",
              "      <th></th>\n",
              "      <th></th>\n",
              "      <th></th>\n",
              "      <th></th>\n",
              "      <th></th>\n",
              "    </tr>\n",
              "  </thead>\n",
              "  <tbody>\n",
              "    <tr>\n",
              "      <th>8644</th>\n",
              "      <td>musopen_1</td>\n",
              "      <td>Nocturne in B major, Op. 9 no. 3</td>\n",
              "      <td>Frédéric François Chopin</td>\n",
              "      <td>Xuan He</td>\n",
              "      <td>Nocturne</td>\n",
              "      <td>NaN</td>\n",
              "      <td>B-Flat Minor</td>\n",
              "      <td>NaN</td>\n",
              "      <td>3 movements</td>\n",
              "      <td>6:57</td>\n",
              "      <td>Piano</td>\n",
              "      <td>Romantic</td>\n",
              "      <td>2</td>\n",
              "      <td>musopen_1.mp3</td>\n",
              "      <td>1-mNbcH0LK-ZPI1C0a0MFmb537nUai_PD</td>\n",
              "    </tr>\n",
              "    <tr>\n",
              "      <th>8645</th>\n",
              "      <td>musopen_2</td>\n",
              "      <td>Nocturne in B flat minor, Op. 9 no. 1</td>\n",
              "      <td>Frédéric François Chopin</td>\n",
              "      <td>Eduardo Viñuela</td>\n",
              "      <td>Nocturne</td>\n",
              "      <td>NaN</td>\n",
              "      <td>B-Flat Minor</td>\n",
              "      <td>NaN</td>\n",
              "      <td>3 movements</td>\n",
              "      <td>5:44</td>\n",
              "      <td>Piano</td>\n",
              "      <td>Romantic</td>\n",
              "      <td>2</td>\n",
              "      <td>musopen_2.mp3</td>\n",
              "      <td>1-ikkmuAsW-r65c6CvngJCaCsCtgqOFa-</td>\n",
              "    </tr>\n",
              "    <tr>\n",
              "      <th>8646</th>\n",
              "      <td>musopen_3</td>\n",
              "      <td>Nocturne in E flat major, Op. 9 no. 2</td>\n",
              "      <td>Frédéric François Chopin</td>\n",
              "      <td>Aya Higuchi</td>\n",
              "      <td>Nocturne</td>\n",
              "      <td>NaN</td>\n",
              "      <td>B-Flat Minor</td>\n",
              "      <td>NaN</td>\n",
              "      <td>3 movements</td>\n",
              "      <td>4:36</td>\n",
              "      <td>Piano</td>\n",
              "      <td>Romantic</td>\n",
              "      <td>2</td>\n",
              "      <td>musopen_3.mp3</td>\n",
              "      <td>1-gpwfSLq_vHmRw_duPd2wTuMI2eCrC32</td>\n",
              "    </tr>\n",
              "    <tr>\n",
              "      <th>8647</th>\n",
              "      <td>musopen_4</td>\n",
              "      <td>Nocturne in B flat minor, Op. 9 no. 1</td>\n",
              "      <td>Frédéric François Chopin</td>\n",
              "      <td>Olga Gurevich</td>\n",
              "      <td>Nocturne</td>\n",
              "      <td>NaN</td>\n",
              "      <td>B-Flat Minor</td>\n",
              "      <td>NaN</td>\n",
              "      <td>3 movements</td>\n",
              "      <td>5:36</td>\n",
              "      <td>Piano</td>\n",
              "      <td>Romantic</td>\n",
              "      <td>2</td>\n",
              "      <td>musopen_4.mp3</td>\n",
              "      <td>1-sHuW432wVLu4OxQq_bKck3jHNLMcavM</td>\n",
              "    </tr>\n",
              "    <tr>\n",
              "      <th>8648</th>\n",
              "      <td>musopen_5</td>\n",
              "      <td>Nocturne in E flat major, Op. 9 no. 2</td>\n",
              "      <td>Frédéric François Chopin</td>\n",
              "      <td>Frank Levy</td>\n",
              "      <td>Nocturne</td>\n",
              "      <td>NaN</td>\n",
              "      <td>B-Flat Minor</td>\n",
              "      <td>NaN</td>\n",
              "      <td>3 movements</td>\n",
              "      <td>4:31</td>\n",
              "      <td>Piano</td>\n",
              "      <td>Romantic</td>\n",
              "      <td>2</td>\n",
              "      <td>musopen_5.mp3</td>\n",
              "      <td>1-wsRN7enkdDsMlAMjbKmfekYawmQGjHE</td>\n",
              "    </tr>\n",
              "  </tbody>\n",
              "</table>\n",
              "</div>"
            ],
            "text/plain": [
              "         Music_ID                                  Title  \\\n",
              "Column                                                     \n",
              "8644    musopen_1  Nocturne in B major, Op. 9 no. 3        \n",
              "8645    musopen_2  Nocturne in B flat minor, Op. 9 no. 1   \n",
              "8646    musopen_3  Nocturne in E flat major, Op. 9 no. 2   \n",
              "8647    musopen_4  Nocturne in B flat minor, Op. 9 no. 1   \n",
              "8648    musopen_5  Nocturne in E flat major, Op. 9 no. 2   \n",
              "\n",
              "                        Composer        Performer      Form   No  \\\n",
              "Column                                                             \n",
              "8644    Frédéric François Chopin  Xuan He          Nocturne  NaN   \n",
              "8645    Frédéric François Chopin  Eduardo Viñuela  Nocturne  NaN   \n",
              "8646    Frédéric François Chopin  Aya Higuchi      Nocturne  NaN   \n",
              "8647    Frédéric François Chopin  Olga Gurevich    Nocturne  NaN   \n",
              "8648    Frédéric François Chopin  Frank Levy       Nocturne  NaN   \n",
              "\n",
              "                 Key CatalogNumber     Movement Length Instruments    Period  \\\n",
              "Column                                                                         \n",
              "8644    B-Flat Minor  NaN           3 movements  6:57   Piano       Romantic   \n",
              "8645    B-Flat Minor  NaN           3 movements  5:44   Piano       Romantic   \n",
              "8646    B-Flat Minor  NaN           3 movements  4:36   Piano       Romantic   \n",
              "8647    B-Flat Minor  NaN           3 movements  5:36   Piano       Romantic   \n",
              "8648    B-Flat Minor  NaN           3 movements  4:31   Piano       Romantic   \n",
              "\n",
              "       License       Filename                          Gdrive_ID  \n",
              "Column                                                            \n",
              "8644    2       musopen_1.mp3  1-mNbcH0LK-ZPI1C0a0MFmb537nUai_PD  \n",
              "8645    2       musopen_2.mp3  1-ikkmuAsW-r65c6CvngJCaCsCtgqOFa-  \n",
              "8646    2       musopen_3.mp3  1-gpwfSLq_vHmRw_duPd2wTuMI2eCrC32  \n",
              "8647    2       musopen_4.mp3  1-sHuW432wVLu4OxQq_bKck3jHNLMcavM  \n",
              "8648    2       musopen_5.mp3  1-wsRN7enkdDsMlAMjbKmfekYawmQGjHE  "
            ]
          },
          "metadata": {
            "tags": []
          },
          "execution_count": 14
        }
      ]
    },
    {
      "cell_type": "code",
      "metadata": {
        "colab": {
          "base_uri": "https://localhost:8080/",
          "height": 1000
        },
        "id": "Zsx6qaDYgP-O",
        "outputId": "3a3ec7f3-5d66-4a08-d5d2-d9652c216c77"
      },
      "source": [
        "df.tail(20)"
      ],
      "execution_count": null,
      "outputs": [
        {
          "output_type": "execute_result",
          "data": {
            "text/html": [
              "<div>\n",
              "<style scoped>\n",
              "    .dataframe tbody tr th:only-of-type {\n",
              "        vertical-align: middle;\n",
              "    }\n",
              "\n",
              "    .dataframe tbody tr th {\n",
              "        vertical-align: top;\n",
              "    }\n",
              "\n",
              "    .dataframe thead th {\n",
              "        text-align: right;\n",
              "    }\n",
              "</style>\n",
              "<table border=\"1\" class=\"dataframe\">\n",
              "  <thead>\n",
              "    <tr style=\"text-align: right;\">\n",
              "      <th></th>\n",
              "      <th>Music_ID</th>\n",
              "      <th>Title</th>\n",
              "      <th>Composer</th>\n",
              "      <th>Performer</th>\n",
              "      <th>Form</th>\n",
              "      <th>No</th>\n",
              "      <th>Key</th>\n",
              "      <th>CatalogNumber</th>\n",
              "      <th>Movement</th>\n",
              "      <th>Length</th>\n",
              "      <th>Instruments</th>\n",
              "      <th>Period</th>\n",
              "      <th>License</th>\n",
              "      <th>Filename</th>\n",
              "      <th>Gdrive_ID</th>\n",
              "    </tr>\n",
              "    <tr>\n",
              "      <th>Column</th>\n",
              "      <th></th>\n",
              "      <th></th>\n",
              "      <th></th>\n",
              "      <th></th>\n",
              "      <th></th>\n",
              "      <th></th>\n",
              "      <th></th>\n",
              "      <th></th>\n",
              "      <th></th>\n",
              "      <th></th>\n",
              "      <th></th>\n",
              "      <th></th>\n",
              "      <th></th>\n",
              "      <th></th>\n",
              "      <th></th>\n",
              "    </tr>\n",
              "  </thead>\n",
              "  <tbody>\n",
              "    <tr>\n",
              "      <th>13365</th>\n",
              "      <td>musopen_4724</td>\n",
              "      <td>Sinfonie di concerto grosso No 12 in c minor, \"La Geniale\" for flute &amp; strings</td>\n",
              "      <td>NaN</td>\n",
              "      <td>The Modena Chamber Orchestra</td>\n",
              "      <td>NaN</td>\n",
              "      <td>NaN</td>\n",
              "      <td>NaN</td>\n",
              "      <td>NaN</td>\n",
              "      <td>NaN</td>\n",
              "      <td>8:01</td>\n",
              "      <td>Flute</td>\n",
              "      <td>NaN</td>\n",
              "      <td>2</td>\n",
              "      <td>musopen_4724.mp3</td>\n",
              "      <td>1inU77WcwAPlBDHqAaYtEBU2YZt4_ZPcS</td>\n",
              "    </tr>\n",
              "    <tr>\n",
              "      <th>13366</th>\n",
              "      <td>musopen_4725</td>\n",
              "      <td>Keyboard Sonata in C major, K.461</td>\n",
              "      <td>NaN</td>\n",
              "      <td>Thomas Goff</td>\n",
              "      <td>NaN</td>\n",
              "      <td>NaN</td>\n",
              "      <td>NaN</td>\n",
              "      <td>NaN</td>\n",
              "      <td>NaN</td>\n",
              "      <td>3:16</td>\n",
              "      <td>Harpsichord</td>\n",
              "      <td>NaN</td>\n",
              "      <td>2</td>\n",
              "      <td>musopen_4725.mp3</td>\n",
              "      <td>1it261fBR_YHlWZNXxIVbzIvHGhpEBmU5</td>\n",
              "    </tr>\n",
              "    <tr>\n",
              "      <th>13367</th>\n",
              "      <td>musopen_4726</td>\n",
              "      <td>Concerto Grosso in B flat Major</td>\n",
              "      <td>NaN</td>\n",
              "      <td>Carl Pini, John Tunnell, Anthony Pini and Harold Lester</td>\n",
              "      <td>NaN</td>\n",
              "      <td>NaN</td>\n",
              "      <td>NaN</td>\n",
              "      <td>NaN</td>\n",
              "      <td>NaN</td>\n",
              "      <td>10:57</td>\n",
              "      <td>String Orchestra</td>\n",
              "      <td>NaN</td>\n",
              "      <td>2</td>\n",
              "      <td>musopen_4726.mp3</td>\n",
              "      <td>1j3me4qzu9G2sTWvoYShZfhthfl5JFa5O</td>\n",
              "    </tr>\n",
              "    <tr>\n",
              "      <th>13368</th>\n",
              "      <td>musopen_4727</td>\n",
              "      <td>Voluntary in C major, Z.717</td>\n",
              "      <td>Henry Purcell</td>\n",
              "      <td>Northern Chamber Orchestra and Choir</td>\n",
              "      <td>Sacred / Mass</td>\n",
              "      <td>NaN</td>\n",
              "      <td>C Major</td>\n",
              "      <td>NaN</td>\n",
              "      <td>NaN</td>\n",
              "      <td>3:37</td>\n",
              "      <td>Organ</td>\n",
              "      <td>Baroque</td>\n",
              "      <td>2</td>\n",
              "      <td>musopen_4727.mp3</td>\n",
              "      <td>1j6nt2P0Lj1-kVJnL_8dHjCI0UvDLHemu</td>\n",
              "    </tr>\n",
              "    <tr>\n",
              "      <th>13369</th>\n",
              "      <td>musopen_4728</td>\n",
              "      <td>Ouverture-Suite in F major, ZWV 188</td>\n",
              "      <td>NaN</td>\n",
              "      <td>Pro Musica Bohemica</td>\n",
              "      <td>NaN</td>\n",
              "      <td>NaN</td>\n",
              "      <td>NaN</td>\n",
              "      <td>NaN</td>\n",
              "      <td>NaN</td>\n",
              "      <td>23:01</td>\n",
              "      <td>Bassoon</td>\n",
              "      <td>NaN</td>\n",
              "      <td>2</td>\n",
              "      <td>musopen_4728.mp3</td>\n",
              "      <td>1jAcVrLcc93sDiMSc0RKnAuhYEm-3rgR8</td>\n",
              "    </tr>\n",
              "    <tr>\n",
              "      <th>13370</th>\n",
              "      <td>musopen_4729</td>\n",
              "      <td>Overture in g-minor</td>\n",
              "      <td>NaN</td>\n",
              "      <td>Carl Pini, John Tunnell, Anthony Pini and Harold Lester</td>\n",
              "      <td>NaN</td>\n",
              "      <td>NaN</td>\n",
              "      <td>NaN</td>\n",
              "      <td>NaN</td>\n",
              "      <td>NaN</td>\n",
              "      <td>4:00</td>\n",
              "      <td>Cello</td>\n",
              "      <td>NaN</td>\n",
              "      <td>2</td>\n",
              "      <td>musopen_4729.mp3</td>\n",
              "      <td>1jAnAkd-1fYbd3ABZX8Ja7caZWMVRn1MK</td>\n",
              "    </tr>\n",
              "    <tr>\n",
              "      <th>13371</th>\n",
              "      <td>musopen_4730</td>\n",
              "      <td>Concerto in G Major</td>\n",
              "      <td>NaN</td>\n",
              "      <td>The Stuttgart Baroque Orchestra</td>\n",
              "      <td>NaN</td>\n",
              "      <td>NaN</td>\n",
              "      <td>NaN</td>\n",
              "      <td>NaN</td>\n",
              "      <td>NaN</td>\n",
              "      <td>13:15</td>\n",
              "      <td>Orchestra</td>\n",
              "      <td>NaN</td>\n",
              "      <td>2</td>\n",
              "      <td>musopen_4730.mp3</td>\n",
              "      <td>1jJEZEqbPlAHx8dXxGhg3m6-yLbx5__hN</td>\n",
              "    </tr>\n",
              "    <tr>\n",
              "      <th>13372</th>\n",
              "      <td>musopen_4731</td>\n",
              "      <td>Concerto in E-flat Major</td>\n",
              "      <td>NaN</td>\n",
              "      <td>The Stuttgart Baroque Orchestra</td>\n",
              "      <td>NaN</td>\n",
              "      <td>NaN</td>\n",
              "      <td>NaN</td>\n",
              "      <td>NaN</td>\n",
              "      <td>NaN</td>\n",
              "      <td>8:33</td>\n",
              "      <td>Orchestra</td>\n",
              "      <td>NaN</td>\n",
              "      <td>2</td>\n",
              "      <td>musopen_4731.mp3</td>\n",
              "      <td>1jHhHhhvjtDHu4-CnOa4Jy_61lsIWsyYC</td>\n",
              "    </tr>\n",
              "    <tr>\n",
              "      <th>13373</th>\n",
              "      <td>musopen_4732</td>\n",
              "      <td>Violin Sonata in G minor, HWV 368</td>\n",
              "      <td>NaN</td>\n",
              "      <td>Josef Suk</td>\n",
              "      <td>NaN</td>\n",
              "      <td>NaN</td>\n",
              "      <td>NaN</td>\n",
              "      <td>NaN</td>\n",
              "      <td>NaN</td>\n",
              "      <td>11:13</td>\n",
              "      <td>Violin</td>\n",
              "      <td>NaN</td>\n",
              "      <td>2</td>\n",
              "      <td>musopen_4732.mp3</td>\n",
              "      <td>1jDqeMzlQVKa8usJ2jtx0883qYKZZ7WYD</td>\n",
              "    </tr>\n",
              "    <tr>\n",
              "      <th>13374</th>\n",
              "      <td>musopen_4733</td>\n",
              "      <td>Concerto Grosso in E minor</td>\n",
              "      <td>NaN</td>\n",
              "      <td>The London Baroque Orchestra</td>\n",
              "      <td>NaN</td>\n",
              "      <td>NaN</td>\n",
              "      <td>NaN</td>\n",
              "      <td>NaN</td>\n",
              "      <td>NaN</td>\n",
              "      <td>12:15</td>\n",
              "      <td>String Orchestra</td>\n",
              "      <td>NaN</td>\n",
              "      <td>2</td>\n",
              "      <td>musopen_4733.mp3</td>\n",
              "      <td>1jLbj37gaOCppO3lQ6LQCcB8jB6xgxnqR</td>\n",
              "    </tr>\n",
              "    <tr>\n",
              "      <th>13375</th>\n",
              "      <td>musopen_4734</td>\n",
              "      <td>Trio Sonata in C major, RV 82</td>\n",
              "      <td>NaN</td>\n",
              "      <td>Celedonio and Domenick Saltarelli</td>\n",
              "      <td>NaN</td>\n",
              "      <td>NaN</td>\n",
              "      <td>NaN</td>\n",
              "      <td>NaN</td>\n",
              "      <td>NaN</td>\n",
              "      <td>8:15</td>\n",
              "      <td>Lute</td>\n",
              "      <td>NaN</td>\n",
              "      <td>2</td>\n",
              "      <td>musopen_4734.mp3</td>\n",
              "      <td>1jXlcHe_-WXi9oSEsCKywnkpSha_-0az2</td>\n",
              "    </tr>\n",
              "    <tr>\n",
              "      <th>13376</th>\n",
              "      <td>musopen_4735</td>\n",
              "      <td>Fugato in e minor, BWV 962</td>\n",
              "      <td>Johann Sebastian Bach</td>\n",
              "      <td>Gunnar Johansen</td>\n",
              "      <td>NaN</td>\n",
              "      <td>NaN</td>\n",
              "      <td>NaN</td>\n",
              "      <td>NaN</td>\n",
              "      <td>NaN</td>\n",
              "      <td>2:15</td>\n",
              "      <td>Harpsichord</td>\n",
              "      <td>NaN</td>\n",
              "      <td>2</td>\n",
              "      <td>musopen_4735.mp3</td>\n",
              "      <td>1jNm6iT43aTgWKGgpe5HB3wkB-LHfOb3F</td>\n",
              "    </tr>\n",
              "    <tr>\n",
              "      <th>13377</th>\n",
              "      <td>musopen_4736</td>\n",
              "      <td>Partie in G Major</td>\n",
              "      <td>NaN</td>\n",
              "      <td>The Paillard Chamber Orchestra</td>\n",
              "      <td>NaN</td>\n",
              "      <td>NaN</td>\n",
              "      <td>NaN</td>\n",
              "      <td>NaN</td>\n",
              "      <td>NaN</td>\n",
              "      <td>7:09</td>\n",
              "      <td>Solo instrument and Continuo</td>\n",
              "      <td>NaN</td>\n",
              "      <td>2</td>\n",
              "      <td>musopen_4736.mp3</td>\n",
              "      <td>1jb9sBekqbhvkLPzMryeB9DbMb8e-9CiK</td>\n",
              "    </tr>\n",
              "    <tr>\n",
              "      <th>13378</th>\n",
              "      <td>musopen_4737</td>\n",
              "      <td>Divertimento in D major, Hob.X:11</td>\n",
              "      <td>NaN</td>\n",
              "      <td>The Little Orchestra of London</td>\n",
              "      <td>NaN</td>\n",
              "      <td>NaN</td>\n",
              "      <td>NaN</td>\n",
              "      <td>NaN</td>\n",
              "      <td>NaN</td>\n",
              "      <td>14:41</td>\n",
              "      <td>Cello</td>\n",
              "      <td>NaN</td>\n",
              "      <td>2</td>\n",
              "      <td>musopen_4737.mp3</td>\n",
              "      <td>1jbXmdEVwlHbx9iLBh2YKwmFy-SkZ6v_n</td>\n",
              "    </tr>\n",
              "    <tr>\n",
              "      <th>13379</th>\n",
              "      <td>musopen_4738</td>\n",
              "      <td>Ein feste Burg ist unser Gott</td>\n",
              "      <td>NaN</td>\n",
              "      <td>Gosse Hulzinga</td>\n",
              "      <td>NaN</td>\n",
              "      <td>NaN</td>\n",
              "      <td>NaN</td>\n",
              "      <td>NaN</td>\n",
              "      <td>NaN</td>\n",
              "      <td>3:19</td>\n",
              "      <td>Organ</td>\n",
              "      <td>NaN</td>\n",
              "      <td>2</td>\n",
              "      <td>musopen_4738.mp3</td>\n",
              "      <td>1jcpz73rD1hmjALrGH8z7nWFd1BVUhSVt</td>\n",
              "    </tr>\n",
              "    <tr>\n",
              "      <th>13380</th>\n",
              "      <td>musopen_4739</td>\n",
              "      <td>Fugue in F major</td>\n",
              "      <td>NaN</td>\n",
              "      <td>The Prague Choral Society</td>\n",
              "      <td>NaN</td>\n",
              "      <td>NaN</td>\n",
              "      <td>NaN</td>\n",
              "      <td>NaN</td>\n",
              "      <td>NaN</td>\n",
              "      <td>3:25</td>\n",
              "      <td>NaN</td>\n",
              "      <td>NaN</td>\n",
              "      <td>2</td>\n",
              "      <td>musopen_4739.mp3</td>\n",
              "      <td>1jpBC3i-_yV01YDA09lPtGnXIKNhFGZsS</td>\n",
              "    </tr>\n",
              "    <tr>\n",
              "      <th>13381</th>\n",
              "      <td>musopen_4740</td>\n",
              "      <td>Ciacona</td>\n",
              "      <td>NaN</td>\n",
              "      <td>Janos Sebestyen</td>\n",
              "      <td>NaN</td>\n",
              "      <td>NaN</td>\n",
              "      <td>NaN</td>\n",
              "      <td>NaN</td>\n",
              "      <td>NaN</td>\n",
              "      <td>10:25</td>\n",
              "      <td>Harpsichord</td>\n",
              "      <td>NaN</td>\n",
              "      <td>2</td>\n",
              "      <td>musopen_4740.mp3</td>\n",
              "      <td>1jt2XmaOzfmmFZTxSd3q197gIeEGwBOn9</td>\n",
              "    </tr>\n",
              "    <tr>\n",
              "      <th>13382</th>\n",
              "      <td>musopen_4741</td>\n",
              "      <td>Intermezzo No.1 - Complete Performance</td>\n",
              "      <td>Manuel Ponce</td>\n",
              "      <td>NaN</td>\n",
              "      <td>Intermezzi</td>\n",
              "      <td>[No.1]</td>\n",
              "      <td>NaN</td>\n",
              "      <td>NaN</td>\n",
              "      <td>NaN</td>\n",
              "      <td>1:51</td>\n",
              "      <td>Piano</td>\n",
              "      <td>Romantic</td>\n",
              "      <td>2</td>\n",
              "      <td>musopen_4741.mp3</td>\n",
              "      <td>1ju9RJ-n0rpPubfCds_Swz75lGRnqZESX</td>\n",
              "    </tr>\n",
              "    <tr>\n",
              "      <th>13383</th>\n",
              "      <td>musopen_4742</td>\n",
              "      <td>De Profundis - Complete Performance</td>\n",
              "      <td>NaN</td>\n",
              "      <td>NaN</td>\n",
              "      <td>NaN</td>\n",
              "      <td>NaN</td>\n",
              "      <td>NaN</td>\n",
              "      <td>NaN</td>\n",
              "      <td>NaN</td>\n",
              "      <td>14:01</td>\n",
              "      <td>Voice(s) and Instruments</td>\n",
              "      <td>NaN</td>\n",
              "      <td>2</td>\n",
              "      <td>musopen_4742.mp3</td>\n",
              "      <td>1jtWFtw224iZnH-ufeqxEqnAYvVfKAbnX</td>\n",
              "    </tr>\n",
              "    <tr>\n",
              "      <th>13384</th>\n",
              "      <td>musopen_4743</td>\n",
              "      <td>nd3f5d4de09ea19461dab00590df91e4f-53cb613e107b8350c201c6f1312b7134</td>\n",
              "      <td>NaN</td>\n",
              "      <td>NaN</td>\n",
              "      <td>NaN</td>\n",
              "      <td>NaN</td>\n",
              "      <td>NaN</td>\n",
              "      <td>NaN</td>\n",
              "      <td>NaN</td>\n",
              "      <td>3:32</td>\n",
              "      <td>Piano and orchestra</td>\n",
              "      <td>NaN</td>\n",
              "      <td>2</td>\n",
              "      <td>musopen_4743.mp3</td>\n",
              "      <td>1jtEN08Jbkx9kxvkIq8hLe0f2AIospYj1</td>\n",
              "    </tr>\n",
              "  </tbody>\n",
              "</table>\n",
              "</div>"
            ],
            "text/plain": [
              "            Music_ID  \\\n",
              "Column                 \n",
              "13365   musopen_4724   \n",
              "13366   musopen_4725   \n",
              "13367   musopen_4726   \n",
              "13368   musopen_4727   \n",
              "13369   musopen_4728   \n",
              "13370   musopen_4729   \n",
              "13371   musopen_4730   \n",
              "13372   musopen_4731   \n",
              "13373   musopen_4732   \n",
              "13374   musopen_4733   \n",
              "13375   musopen_4734   \n",
              "13376   musopen_4735   \n",
              "13377   musopen_4736   \n",
              "13378   musopen_4737   \n",
              "13379   musopen_4738   \n",
              "13380   musopen_4739   \n",
              "13381   musopen_4740   \n",
              "13382   musopen_4741   \n",
              "13383   musopen_4742   \n",
              "13384   musopen_4743   \n",
              "\n",
              "                                                                                 Title  \\\n",
              "Column                                                                                   \n",
              "13365   Sinfonie di concerto grosso No 12 in c minor, \"La Geniale\" for flute & strings   \n",
              "13366   Keyboard Sonata in C major, K.461                                                \n",
              "13367   Concerto Grosso in B flat Major                                                  \n",
              "13368   Voluntary in C major, Z.717                                                      \n",
              "13369   Ouverture-Suite in F major, ZWV 188                                              \n",
              "13370   Overture in g-minor                                                              \n",
              "13371   Concerto in G Major                                                              \n",
              "13372   Concerto in E-flat Major                                                         \n",
              "13373   Violin Sonata in G minor, HWV 368                                                \n",
              "13374   Concerto Grosso in E minor                                                       \n",
              "13375   Trio Sonata in C major, RV 82                                                    \n",
              "13376   Fugato in e minor, BWV 962                                                       \n",
              "13377   Partie in G Major                                                                \n",
              "13378   Divertimento in D major, Hob.X:11                                                \n",
              "13379   Ein feste Burg ist unser Gott                                                    \n",
              "13380   Fugue in F major                                                                 \n",
              "13381   Ciacona                                                                          \n",
              "13382   Intermezzo No.1 - Complete Performance                                           \n",
              "13383   De Profundis - Complete Performance                                              \n",
              "13384   nd3f5d4de09ea19461dab00590df91e4f-53cb613e107b8350c201c6f1312b7134               \n",
              "\n",
              "                     Composer  \\\n",
              "Column                          \n",
              "13365   NaN                     \n",
              "13366   NaN                     \n",
              "13367   NaN                     \n",
              "13368   Henry Purcell           \n",
              "13369   NaN                     \n",
              "13370   NaN                     \n",
              "13371   NaN                     \n",
              "13372   NaN                     \n",
              "13373   NaN                     \n",
              "13374   NaN                     \n",
              "13375   NaN                     \n",
              "13376   Johann Sebastian Bach   \n",
              "13377   NaN                     \n",
              "13378   NaN                     \n",
              "13379   NaN                     \n",
              "13380   NaN                     \n",
              "13381   NaN                     \n",
              "13382   Manuel Ponce            \n",
              "13383   NaN                     \n",
              "13384   NaN                     \n",
              "\n",
              "                                                      Performer  \\\n",
              "Column                                                            \n",
              "13365   The Modena Chamber Orchestra                              \n",
              "13366   Thomas Goff                                               \n",
              "13367   Carl Pini, John Tunnell, Anthony Pini and Harold Lester   \n",
              "13368   Northern Chamber Orchestra and Choir                      \n",
              "13369   Pro Musica Bohemica                                       \n",
              "13370   Carl Pini, John Tunnell, Anthony Pini and Harold Lester   \n",
              "13371   The Stuttgart Baroque Orchestra                           \n",
              "13372   The Stuttgart Baroque Orchestra                           \n",
              "13373   Josef Suk                                                 \n",
              "13374   The London Baroque Orchestra                              \n",
              "13375   Celedonio and Domenick Saltarelli                         \n",
              "13376   Gunnar Johansen                                           \n",
              "13377   The Paillard Chamber Orchestra                            \n",
              "13378   The Little Orchestra of London                            \n",
              "13379   Gosse Hulzinga                                            \n",
              "13380   The Prague Choral Society                                 \n",
              "13381   Janos Sebestyen                                           \n",
              "13382   NaN                                                       \n",
              "13383   NaN                                                       \n",
              "13384   NaN                                                       \n",
              "\n",
              "                 Form      No      Key CatalogNumber Movement Length  \\\n",
              "Column                                                                 \n",
              "13365   NaN            NaN     NaN      NaN           NaN      8:01    \n",
              "13366   NaN            NaN     NaN      NaN           NaN      3:16    \n",
              "13367   NaN            NaN     NaN      NaN           NaN      10:57   \n",
              "13368   Sacred / Mass  NaN     C Major  NaN           NaN      3:37    \n",
              "13369   NaN            NaN     NaN      NaN           NaN      23:01   \n",
              "13370   NaN            NaN     NaN      NaN           NaN      4:00    \n",
              "13371   NaN            NaN     NaN      NaN           NaN      13:15   \n",
              "13372   NaN            NaN     NaN      NaN           NaN      8:33    \n",
              "13373   NaN            NaN     NaN      NaN           NaN      11:13   \n",
              "13374   NaN            NaN     NaN      NaN           NaN      12:15   \n",
              "13375   NaN            NaN     NaN      NaN           NaN      8:15    \n",
              "13376   NaN            NaN     NaN      NaN           NaN      2:15    \n",
              "13377   NaN            NaN     NaN      NaN           NaN      7:09    \n",
              "13378   NaN            NaN     NaN      NaN           NaN      14:41   \n",
              "13379   NaN            NaN     NaN      NaN           NaN      3:19    \n",
              "13380   NaN            NaN     NaN      NaN           NaN      3:25    \n",
              "13381   NaN            NaN     NaN      NaN           NaN      10:25   \n",
              "13382   Intermezzi     [No.1]  NaN      NaN           NaN      1:51    \n",
              "13383   NaN            NaN     NaN      NaN           NaN      14:01   \n",
              "13384   NaN            NaN     NaN      NaN           NaN      3:32    \n",
              "\n",
              "                         Instruments    Period License          Filename  \\\n",
              "Column                                                                     \n",
              "13365   Flute                         NaN       2       musopen_4724.mp3   \n",
              "13366   Harpsichord                   NaN       2       musopen_4725.mp3   \n",
              "13367   String Orchestra              NaN       2       musopen_4726.mp3   \n",
              "13368   Organ                         Baroque   2       musopen_4727.mp3   \n",
              "13369   Bassoon                       NaN       2       musopen_4728.mp3   \n",
              "13370   Cello                         NaN       2       musopen_4729.mp3   \n",
              "13371   Orchestra                     NaN       2       musopen_4730.mp3   \n",
              "13372   Orchestra                     NaN       2       musopen_4731.mp3   \n",
              "13373   Violin                        NaN       2       musopen_4732.mp3   \n",
              "13374   String Orchestra              NaN       2       musopen_4733.mp3   \n",
              "13375   Lute                          NaN       2       musopen_4734.mp3   \n",
              "13376   Harpsichord                   NaN       2       musopen_4735.mp3   \n",
              "13377   Solo instrument and Continuo  NaN       2       musopen_4736.mp3   \n",
              "13378   Cello                         NaN       2       musopen_4737.mp3   \n",
              "13379   Organ                         NaN       2       musopen_4738.mp3   \n",
              "13380   NaN                           NaN       2       musopen_4739.mp3   \n",
              "13381   Harpsichord                   NaN       2       musopen_4740.mp3   \n",
              "13382   Piano                         Romantic  2       musopen_4741.mp3   \n",
              "13383   Voice(s) and Instruments      NaN       2       musopen_4742.mp3   \n",
              "13384   Piano and orchestra           NaN       2       musopen_4743.mp3   \n",
              "\n",
              "                                Gdrive_ID  \n",
              "Column                                     \n",
              "13365   1inU77WcwAPlBDHqAaYtEBU2YZt4_ZPcS  \n",
              "13366   1it261fBR_YHlWZNXxIVbzIvHGhpEBmU5  \n",
              "13367   1j3me4qzu9G2sTWvoYShZfhthfl5JFa5O  \n",
              "13368   1j6nt2P0Lj1-kVJnL_8dHjCI0UvDLHemu  \n",
              "13369   1jAcVrLcc93sDiMSc0RKnAuhYEm-3rgR8  \n",
              "13370   1jAnAkd-1fYbd3ABZX8Ja7caZWMVRn1MK  \n",
              "13371   1jJEZEqbPlAHx8dXxGhg3m6-yLbx5__hN  \n",
              "13372   1jHhHhhvjtDHu4-CnOa4Jy_61lsIWsyYC  \n",
              "13373   1jDqeMzlQVKa8usJ2jtx0883qYKZZ7WYD  \n",
              "13374   1jLbj37gaOCppO3lQ6LQCcB8jB6xgxnqR  \n",
              "13375   1jXlcHe_-WXi9oSEsCKywnkpSha_-0az2  \n",
              "13376   1jNm6iT43aTgWKGgpe5HB3wkB-LHfOb3F  \n",
              "13377   1jb9sBekqbhvkLPzMryeB9DbMb8e-9CiK  \n",
              "13378   1jbXmdEVwlHbx9iLBh2YKwmFy-SkZ6v_n  \n",
              "13379   1jcpz73rD1hmjALrGH8z7nWFd1BVUhSVt  \n",
              "13380   1jpBC3i-_yV01YDA09lPtGnXIKNhFGZsS  \n",
              "13381   1jt2XmaOzfmmFZTxSd3q197gIeEGwBOn9  \n",
              "13382   1ju9RJ-n0rpPubfCds_Swz75lGRnqZESX  \n",
              "13383   1jtWFtw224iZnH-ufeqxEqnAYvVfKAbnX  \n",
              "13384   1jtEN08Jbkx9kxvkIq8hLe0f2AIospYj1  "
            ]
          },
          "metadata": {
            "tags": []
          },
          "execution_count": 32
        }
      ]
    },
    {
      "cell_type": "code",
      "metadata": {
        "id": "nGT0_pXCkr0n"
      },
      "source": [
        "df.drop('find_no', axis=1, inplace=True)"
      ],
      "execution_count": null,
      "outputs": []
    },
    {
      "cell_type": "code",
      "metadata": {
        "colab": {
          "base_uri": "https://localhost:8080/"
        },
        "id": "kMn7KOBErUsp",
        "outputId": "6d279268-0b6b-4914-f720-a374cfb820fd"
      },
      "source": [
        "df['find_no'].isnull().sum()"
      ],
      "execution_count": null,
      "outputs": [
        {
          "output_type": "execute_result",
          "data": {
            "text/plain": [
              "8153"
            ]
          },
          "metadata": {
            "tags": []
          },
          "execution_count": 107
        }
      ]
    },
    {
      "cell_type": "code",
      "metadata": {
        "colab": {
          "base_uri": "https://localhost:8080/"
        },
        "id": "vZ4Le9O9E_wX",
        "outputId": "c000fe61-641e-41c3-e47b-ea7ce6748440"
      },
      "source": [
        "8153/13385*100"
      ],
      "execution_count": null,
      "outputs": [
        {
          "output_type": "execute_result",
          "data": {
            "text/plain": [
              "60.91146806126261"
            ]
          },
          "metadata": {
            "tags": []
          },
          "execution_count": 108
        }
      ]
    },
    {
      "cell_type": "code",
      "metadata": {
        "colab": {
          "base_uri": "https://localhost:8080/"
        },
        "id": "r_tEliHbxNvD",
        "outputId": "1233410a-618a-495e-93d7-c12f4db6ca07"
      },
      "source": [
        "len(df)"
      ],
      "execution_count": null,
      "outputs": [
        {
          "output_type": "execute_result",
          "data": {
            "text/plain": [
              "13385"
            ]
          },
          "metadata": {
            "tags": []
          },
          "execution_count": 69
        }
      ]
    },
    {
      "cell_type": "code",
      "metadata": {
        "id": "1v2kLX5WlxJu"
      },
      "source": [
        "df[['Title','No', 'find_no']]"
      ],
      "execution_count": null,
      "outputs": []
    },
    {
      "cell_type": "code",
      "metadata": {
        "id": "T4aMByFokhOJ"
      },
      "source": [
        "df.head(20)"
      ],
      "execution_count": null,
      "outputs": []
    },
    {
      "cell_type": "code",
      "metadata": {
        "id": "S5wK8PeJU2Fi"
      },
      "source": [
        "df_title = df[['Music_ID', 'Title']]"
      ],
      "execution_count": null,
      "outputs": []
    },
    {
      "cell_type": "code",
      "metadata": {
        "id": "GxJrFZnKlIaG"
      },
      "source": [
        "df['No'] = df['find_no']"
      ],
      "execution_count": null,
      "outputs": []
    },
    {
      "cell_type": "code",
      "metadata": {
        "colab": {
          "base_uri": "https://localhost:8080/"
        },
        "id": "eYuLVu92tyYT",
        "outputId": "a7ab1166-f099-489d-d625-1a37288bfea0"
      },
      "source": [
        "df['No'].head()"
      ],
      "execution_count": null,
      "outputs": [
        {
          "output_type": "execute_result",
          "data": {
            "text/plain": [
              "Column\n",
              "0    NaN           \n",
              "1    NaN           \n",
              "2    [No. 1, No. 1]\n",
              "3    [No. 1, No. 1]\n",
              "4    [No. 1, No. 1]\n",
              "Name: No, dtype: object"
            ]
          },
          "metadata": {
            "tags": []
          },
          "execution_count": 113
        }
      ]
    },
    {
      "cell_type": "code",
      "metadata": {
        "id": "AD3SMRYft5ky"
      },
      "source": [
        "df_no = df[['Music_ID', 'Title', 'No']]\n",
        "df_no.to_csv('/content/drive/MyDrive/해민/superset_number.csv')"
      ],
      "execution_count": null,
      "outputs": []
    },
    {
      "cell_type": "code",
      "metadata": {
        "colab": {
          "base_uri": "https://localhost:8080/"
        },
        "id": "dbcG7rzbz7Fm",
        "outputId": "ab868592-bcef-4072-c50f-8951026f890e"
      },
      "source": [
        "len(df_no)"
      ],
      "execution_count": null,
      "outputs": [
        {
          "output_type": "execute_result",
          "data": {
            "text/plain": [
              "13385"
            ]
          },
          "metadata": {
            "tags": []
          },
          "execution_count": 116
        }
      ]
    }
  ]
}